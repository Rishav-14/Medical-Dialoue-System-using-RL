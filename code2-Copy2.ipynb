{
 "cells": [
  {
   "cell_type": "code",
   "execution_count": 1,
   "id": "relevant-snowboard",
   "metadata": {},
   "outputs": [],
   "source": [
    "# 1\n",
    "from sklearn.feature_selection import RFE\n",
    "from sklearn.linear_model import LogisticRegression\n",
    "model = LogisticRegression()\n",
    "\n",
    "from sklearn.model_selection import train_test_split\n",
    "from sklearn.ensemble import RandomForestClassifier\n",
    "\n",
    "from sklearn.feature_selection import chi2\n",
    "from sklearn.feature_selection import SelectKBest, SelectPercentile\n",
    "from sklearn.metrics import accuracy_score\n",
    "from sklearn.ensemble import ExtraTreesClassifier\n",
    "from sklearn.linear_model import LogisticRegression\n",
    "from sklearn.metrics import confusion_matrix, accuracy_score\n",
    "from sklearn.svm import SVC\n",
    "\n",
    "import numpy as np\n",
    "import pandas as pd\n",
    "import seaborn as sns\n",
    "import matplotlib.pyplot as plt\n",
    "%matplotlib inline\n",
    "\n",
    "from sklearn.feature_selection import mutual_info_regression\n",
    "\n",
    "\n",
    "import pickle\n",
    "import os\n",
    "import re"
   ]
  },
  {
   "cell_type": "code",
   "execution_count": 3,
   "id": "coastal-bernard",
   "metadata": {},
   "outputs": [],
   "source": [
    "# 2\n",
    "idx = [(1, 0), (2, 1), (3, 2), (4, 3), (5, 4), (6, 5), (7, 6), (8, 7), (9, 8)]\n",
    "#idx = [(1, 0)]\n",
    "for z, c in idx:\n",
    "    data_set = pickle.load(open(r'label' + str(z) + '\\goal_set.p', 'rb'))\n",
    "    data = data_set['train'] + data_set['test'] + data_set['validate']\n",
    "    dis_s = {}\n",
    "    symptoms = {}\n",
    "    for xy in data:\n",
    "        disease = xy['disease_tag']\n",
    "        dis_s.setdefault(disease, {'index':len(dis_s), 'symptom':dict()})\n",
    "        temp2 = xy['goal']['implicit_inform_slots']\n",
    "        temp2.update(xy['goal']['explicit_inform_slots'])\n",
    "        for x, y in temp2.items():\n",
    "            symptoms.setdefault(x, len(symptoms))\n",
    "            dis_s[disease]['symptom'].setdefault(x, 0)\n",
    "            dis_s[disease]['symptom'][x] += 1\n",
    "    #for x in dis_s:\n",
    "        #frequency = 0\n",
    "        #for y in dis_s[x]['symptom']:\n",
    "            #frequency += dis_s[x]['symptom'][y]\n",
    "        #for y in dis_s[x]['symptom']:\n",
    "            #dis_s[x]['symptom'][y] /= frequency\n",
    "    symptoms['Total Symptom'] = len(symptoms)\n",
    "    pickle.dump(obj = dis_s, file = open(r'label' + str(z) + '\\out1.p', 'wb'), protocol = 2)\n",
    "    pickle.dump(obj = symptoms, file = open(r'label' + str(z) + '\\out2.p', 'wb'), protocol = 2)"
   ]
  },
  {
   "cell_type": "code",
   "execution_count": 5,
   "id": "stupid-israel",
   "metadata": {
    "scrolled": true
   },
   "outputs": [
    {
     "name": "stdout",
     "output_type": "stream",
     "text": [
      "1\n",
      "debug\n",
      "[(92.02325581395353, 'Incontinence of stool'), (178.45112781954896, 'Pus in urine'), (206.69565217391306, 'Back stiffness or tightness'), (221.64902823095466, 'Back weakness'), (268.6981132075471, 'Pus in sputum'), (325.8969072164949, 'Hand or finger cramps or spasms'), (358.2641509433964, 'Abnormal size or shape of ear'), (435.8592107684532, 'Muscle swelling'), (436.17647058823525, 'Irregular belly button'), (442.76119402985074, 'Nose deformity'), (484.00224935590626, 'Nightmares'), (495.0, 'Feeling cold'), (511.5189021132288, 'Low back weakness'), (523.4117647058824, 'Scanty menstrual flow'), (529.3159851301115, 'Back mass or lump'), (572.313253012048, 'Itching of scrotum'), (608.3846153846152, 'Frequent menstruation'), (636.67816091954, 'Hysterical behavior'), (644.1627906976743, 'Disturbance of smell or taste'), (660.9895470383279, 'Bowlegged or knock-kneed'), (697.7794209268264, 'Feeling hot and cold'), (763.0843373493979, 'Bladder mass'), (796.9701492537314, 'Too little hair'), (853.309352517986, 'Hip stiffness or tightness'), (875.608856088561, 'Arm weakness'), (906.2542372881364, 'Diaper rash'), (908.8606271777, 'Cross-eyed'), (926.4456054107417, 'Emotional symptoms'), (944.4288425047437, 'Muscle cramps, contractures, or spasms'), (953.2022456531292, 'Hoarse voice'), (953.6401549986498, 'Elbow weakness'), (994.7171526003722, 'Elbow cramps or spasms'), (1033.4782608695646, 'Back cramps or spasms'), (1096.5474285593832, 'Infrequent menstruation'), (1101.2857142857142, 'Sinus congestion'), (1114.9508659546482, 'Fears and phobias'), (1129.857142857143, 'Premature ejaculation'), (1336.8764176999466, 'Pain during intercourse'), (1340.890459363958, 'Increased heart rate'), (1385.9999999999995, 'Unusual color or odor to urine'), (1440.1428571428573, 'Bleeding gums'), (1476.809688581316, 'Swollen or red tonsils'), (1489.8823529411766, 'Vomiting blood'), (1495.8110236220475, 'Mass on vulva'), (1548.0103092783504, 'Poor circulation'), (1584.8898044074524, 'Double vision'), (1587.638346677253, 'Absence of menstruation'), (1587.7949492819828, 'Unwanted hair'), (1703.5811958295467, 'Stiffness all over'), (1713.2459156699413, 'Wrist weakness'), (1722.9446366782008, 'Temper problems'), (1741.6177606177603, 'Infant spitting up'), (1757.7777777777778, 'Swollen abdomen'), (1778.9999999999998, 'Drainage in throat'), (1811.7272727272723, 'Bleeding from eye'), (1821.0760713729558, 'Nailbiting'), (1852.3648685280564, 'Hemoptysis'), (1905.0072992700727, 'Skin on arm or hand looks infected'), (1912.2006060736321, 'Lack of growth'), (1912.2550464248752, 'Skin irritation'), (1924.9459459459458, 'Pulling at ears'), (1952.4919723426704, 'Symptoms of the face'), (1991.5985401459855, 'Ankle stiffness or tightness'), (2063.014939842682, 'Arm stiffness or tightness'), (2069.796228539262, 'Eye strain'), (2116.4221579747514, 'Excessive growth'), (2133.1020408163267, 'Swollen tongue'), (2164.1343115198524, 'Warts'), (2178.817949129912, 'Bones are painful'), (2257.714285714284, 'Eye deviation'), (2287.9878217222513, 'Itchy eyelid'), (2338.254009027126, 'Irregular heartbeat'), (2437.321259403736, 'Foot or toe stiffness or tightness'), (2460.8888888888873, 'Mass in scrotum'), (2474.930501930502, 'Polyuria'), (2512.522765692892, 'Neck cramps or spasms'), (2578.695652173914, 'Itchy scalp'), (2599.1335498354897, 'Shoulder swelling'), (2639.666666666665, 'Apnea'), (2650.21052631579, 'Spotting or bleeding during pregnancy'), (2715.9748237784984, 'Long menstrual periods'), (2787.181818181818, 'Chills'), (2801.2957596264278, 'Loss of sex drive'), (2801.9483394833956, 'Hand or finger stiffness or tightness'), (2871.5743944636683, 'Fluid in ear'), (2917.915159600539, 'Elbow pain'), (2931.980625670655, 'Skin on leg or foot looks infected'), (2954.4243843585555, 'Lower body pain'), (2955.01098901099, 'Problems during pregnancy'), (2965.0000000000014, 'Ankle swelling'), (2967.0000000000014, 'Knee weakness'), (3005.667071667073, 'Irritable infant'), (3198.9580846295503, 'Vulvar sore'), (3208.243243243244, 'Thirst'), (3284.7012757357575, 'Penis pain'), (3352.2352941176478, 'Difficulty eating'), (3427.666666666666, 'Throat swelling'), (3493.075471698113, 'Dry or flaky scalp'), (3511.346570397112, 'Wrist stiffness or tightness'), (3523.3382929623995, 'Delusions or hallucinations'), (3582.641509433962, 'Chest tightness'), (3695.683414771872, 'Knee swelling'), (3805.328244274808, 'Sneezing'), (3851.339622641509, 'Foot or toe lump or mass'), (3881.6316116290495, 'Hot flashes'), (3924.6054786468717, 'Hostile behavior'), (3991.400701077153, 'Restlessness'), (4032.7800293869336, 'Irregular appearing scalp'), (4073.948254758789, 'Penis redness'), (4093.453781512604, 'Muscle stiffness or tightness'), (4113.908895873871, 'Painful sinuses'), (4178.997779636733, 'Leg cramps or spasms'), (4225.727272727277, 'Knee stiffness or tightness'), (4279.535844021049, 'Sleepiness'), (4331.7353262089455, 'Hand or finger swelling'), (4365.793103448275, 'Symptoms of bladder'), (4435.883520653918, 'Bleeding or discharge from nipple'), (4467.286449399653, 'Burning abdominal pain'), (4587.405204460963, 'Neck stiffness or tightness'), (4634.390780730896, 'Skin pain'), (4809.132867132863, 'Kidney mass'), (4894.980387115931, 'Cramps and spasms'), (4955.052796670787, 'Vaginal itching'), (5013.0499046862815, 'Foreign body sensation in eye'), (5021.265691222034, 'Palpitations'), (5046.449895360573, 'Retention of urine'), (5074.376338388897, 'Lymphedema'), (5214.725274725276, 'Symptoms of prostate'), (5285.3513513513535, 'Feet turned in'), (5324.31170388182, 'Eye burns or stings'), (5383.20621794541, 'Problems with movement'), (5433.083625713407, 'Leg swelling'), (5557.81784386617, 'Hurts to breath'), (5725.548554217928, 'Lower abdominal pain'), (5734.709809603917, 'Intermenstrual bleeding'), (5744.201859575945, 'Fainting'), (5803.340425531916, 'Muscle weakness'), (5819.354031640833, 'Spots or clouds in vision'), (5902.949419779081, 'White discharge from eye'), (6057.341508339255, 'Difficulty speaking'), (6118.017153862942, 'Eyelid swelling'), (6118.871032296634, 'Insomnia'), (6201.037124620906, 'Skin moles'), (6401.444440478246, 'Fluid retention'), (6421.999999999996, 'Frontal headache'), (6460.000000000002, 'Wrinkles on skin'), (6539.287449392714, 'Wrist lump or mass'), (6589.081863461981, 'Hand or finger weakness'), (6710.074370559399, 'Unpredictable menstruation'), (6778.583621215201, 'Decreased appetite'), (6782.224587286688, 'Low self-esteem'), (6982.787837715732, 'Sweating'), (7022.777190845394, 'Arm pain'), (7114.63331364146, 'Joint pain'), (7239.310253246329, 'Wrist swelling'), (7344.719355259761, 'Side pain'), (7926.986549220332, 'Feeling ill'), (7981.777327935223, 'Hand or finger lump or mass'), (7984.059917532094, 'Muscle pain'), (8001.909090909087, 'Painful menstruation'), (8027.683220039002, 'Skin swelling'), (8052.713107555959, 'Symptoms of eye'), (8175.3755088269645, 'Ache all over'), (8182.560165975102, 'Difficulty breathing'), (8217.285714285716, 'Mouth ulcer'), (8324.798702565184, 'Itchiness of eye'), (8332.579847565941, 'Peripheral edema'), (8397.632193377822, 'Skin growth'), (8412.621274949104, 'Dizziness'), (8428.362449288588, 'Blindness'), (8437.846794975689, 'Paresthesia'), (8517.152132880397, 'Difficulty in swallowing'), (8614.723183390994, 'Plugged feeling in ear'), (8671.237450372591, 'Eyelid lesion or rash'), (8778.813148788913, 'Redness in ear'), (8778.813148788913, 'Ringing in ear'), (8820.852653390128, 'Focal weakness'), (9007.098604633962, 'Symptoms of the kidneys'), (9015.109719719861, 'Cough'), (9083.374365822314, 'Skin dryness, peeling, scaliness, or roughness'), (9113.748699537693, 'Swollen eye'), (9114.01060347349, 'Foot or toe swelling'), (9211.640437818258, 'Allergic reaction'), (9226.26960819591, 'Blood in urine'), (9322.85464452363, 'Nasal congestion'), (9421.411764705874, 'Congestion in chest'), (9502.436366334989, 'Lip swelling'), (9615.199767655407, 'Leg pain'), (9755.273623243216, 'Pelvic pain'), (9772.05699156001, 'Weakness'), (9810.749504978343, 'Frequent urination'), (9815.281140337263, 'Vaginal discharge'), (9818.77026306025, 'Leg weakness'), (9915.183397683406, 'Diarrhea'), (10075.370193925453, 'Lacrimation'), (10178.182387282792, 'Itching of skin'), (10181.356865577318, 'Heavy menstrual flow'), (10205.33445384358, 'Sharp chest pain'), (10321.788346646916, 'Neck pain'), (10507.348188188324, 'Vomiting'), (10674.844971081968, 'Excessive appetite'), (10748.65257441175, 'Fatigue'), (11012.85714285714, 'Coryza'), (11059.183025712817, 'Nausea'), (11064.722891566256, 'Decreased heart rate'), (11255.389007162159, 'Depression'), (11295.903746122596, 'Abnormal appearing skin'), (11477.088793273373, 'Painful urination'), (11508.675764347508, 'Hip pain'), (11527.113447032907, 'Loss of sensation'), (11543.522168095758, 'Hand or finger pain'), (11593.398197601911, 'Skin lesion'), (11779.118539910787, 'Seizures'), (11781.561613813677, 'Eye redness'), (11806.447631968955, 'Shortness of breath'), (11814.477508650529, 'Ear pain'), (11844.062713348432, 'Abnormal movement of eyelid'), (11947.416360478237, 'Sharp abdominal pain'), (12154.404403880628, 'Depressive or psychotic symptoms'), (12331.892315662399, 'Headache'), (12359.246549891333, 'Abnormal involuntary movements'), (12417.068796910404, 'Shoulder pain'), (12427.25261391922, 'Foot or toe pain'), (12456.816922077998, 'Disturbance of memory'), (12461.110641819705, 'Involuntary urination'), (12550.10792393301, 'Ankle pain'), (12567.990997527493, 'Pain in eye'), (12617.530061786485, 'Excessive anger'), (12680.73766766816, 'Weight gain'), (12786.494672655092, 'Suprapubic pain'), (12896.311425408496, 'Back pain'), (12902.094890510949, 'Shoulder stiffness or tightness'), (12922.654892944716, 'Anxiety and nervousness'), (12982.408906882598, 'Arm swelling'), (13033.7754478248, 'Diminished vision'), (13145.451697691646, 'Knee lump or mass'), (13201.943769058422, 'Acne or pimples'), (13202.646906572496, 'Knee pain'), (13432.507320630957, 'Facial pain'), (13469.876290893942, 'Vaginal pain'), (13534.51340371555, 'Groin pain'), (13751.736842105263, 'Arm lump or mass'), (13896.652218937996, 'Fever'), (14056.79122625747, 'Low back pain'), (14136.400809716595, 'Groin mass'), (14206.877586518149, 'Wrist pain'), (14338.772857258802, 'Pain or soreness of breast'), (14644.23942514108, 'Joint stiffness or tightness'), (14830.515164608794, 'Shoulder cramps or spasms'), (14868.398223686036, 'Skin rash'), (14903.231739545397, 'Abusing alcohol'), (14974.816137625829, 'Pain during pregnancy'), (14978.925046698048, 'Rib pain'), (15033.532557223356, 'Swelling of scrotum'), (15610.335753176032, 'Penile discharge'), (15912.440566217512, 'Mass on eyelid'), (16217.619548161394, 'Vaginal bleeding after menopause'), (16662.40737991474, 'Excessive urination at night'), (17179.738857444023, 'Diminished hearing'), (17484.75014459224, 'Pain in testicles'), (18175.372469635633, 'Neck swelling'), (18369.393069168604, 'Infertility'), (19768.033730158728, 'Sore throat'), (19827.977011494248, 'Drug abuse'), (20511.25274725274, 'Lump or mass of breast'), (21119.63736263736, 'Impotence')]\n",
      "{'Incontinence of stool': 92.02325581395353, 'Pus in urine': 178.45112781954896, 'Back stiffness or tightness': 206.69565217391306, 'Back weakness': 221.64902823095466, 'Pus in sputum': 268.6981132075471, 'Hand or finger cramps or spasms': 325.8969072164949, 'Abnormal size or shape of ear': 358.2641509433964, 'Muscle swelling': 435.8592107684532, 'Irregular belly button': 436.17647058823525, 'Nose deformity': 442.76119402985074, 'Nightmares': 484.00224935590626, 'Feeling cold': 495.0, 'Low back weakness': 511.5189021132288, 'Scanty menstrual flow': 523.4117647058824, 'Back mass or lump': 529.3159851301115, 'Itching of scrotum': 572.313253012048, 'Frequent menstruation': 608.3846153846152, 'Hysterical behavior': 636.67816091954, 'Disturbance of smell or taste': 644.1627906976743, 'Bowlegged or knock-kneed': 660.9895470383279, 'Feeling hot and cold': 697.7794209268264, 'Bladder mass': 763.0843373493979, 'Too little hair': 796.9701492537314, 'Hip stiffness or tightness': 853.309352517986, 'Arm weakness': 875.608856088561, 'Diaper rash': 906.2542372881364, 'Cross-eyed': 908.8606271777, 'Emotional symptoms': 926.4456054107417, 'Muscle cramps, contractures, or spasms': 944.4288425047437, 'Hoarse voice': 953.2022456531292, 'Elbow weakness': 953.6401549986498, 'Elbow cramps or spasms': 994.7171526003722, 'Back cramps or spasms': 1033.4782608695646, 'Infrequent menstruation': 1096.5474285593832, 'Sinus congestion': 1101.2857142857142, 'Fears and phobias': 1114.9508659546482, 'Premature ejaculation': 1129.857142857143, 'Pain during intercourse': 1336.8764176999466, 'Increased heart rate': 1340.890459363958, 'Unusual color or odor to urine': 1385.9999999999995, 'Bleeding gums': 1440.1428571428573, 'Swollen or red tonsils': 1476.809688581316, 'Vomiting blood': 1489.8823529411766, 'Mass on vulva': 1495.8110236220475, 'Poor circulation': 1548.0103092783504, 'Double vision': 1584.8898044074524, 'Absence of menstruation': 1587.638346677253, 'Unwanted hair': 1587.7949492819828, 'Stiffness all over': 1703.5811958295467, 'Wrist weakness': 1713.2459156699413, 'Temper problems': 1722.9446366782008, 'Infant spitting up': 1741.6177606177603, 'Swollen abdomen': 1757.7777777777778, 'Drainage in throat': 1778.9999999999998, 'Bleeding from eye': 1811.7272727272723, 'Nailbiting': 1821.0760713729558, 'Hemoptysis': 1852.3648685280564, 'Skin on arm or hand looks infected': 1905.0072992700727, 'Lack of growth': 1912.2006060736321, 'Skin irritation': 1912.2550464248752, 'Pulling at ears': 1924.9459459459458, 'Symptoms of the face': 1952.4919723426704, 'Ankle stiffness or tightness': 1991.5985401459855, 'Arm stiffness or tightness': 2063.014939842682, 'Eye strain': 2069.796228539262, 'Excessive growth': 2116.4221579747514, 'Swollen tongue': 2133.1020408163267, 'Warts': 2164.1343115198524, 'Bones are painful': 2178.817949129912, 'Eye deviation': 2257.714285714284, 'Itchy eyelid': 2287.9878217222513, 'Irregular heartbeat': 2338.254009027126, 'Foot or toe stiffness or tightness': 2437.321259403736, 'Mass in scrotum': 2460.8888888888873, 'Polyuria': 2474.930501930502, 'Neck cramps or spasms': 2512.522765692892, 'Itchy scalp': 2578.695652173914, 'Shoulder swelling': 2599.1335498354897, 'Apnea': 2639.666666666665, 'Spotting or bleeding during pregnancy': 2650.21052631579}\n",
      "80\n"
     ]
    }
   ],
   "source": [
    "# 3\n",
    "#idx = [(1, 0), (2, 1), (3, 2), (4, 3), (5, 4), (6, 5), (7, 6), (8, 7), (9, 8)]\n",
    "idx = [(1, 0)]\n",
    "for z, c in idx:\n",
    "    print(z)\n",
    "    temp_dict = pickle.load(open(r'out2.p', 'rb'))\n",
    "    temp_data = pickle.load(open(r'out1.p', 'rb'))\n",
    "    length = 0\n",
    "\n",
    "    dict = {}\n",
    "    dict1 = {}\n",
    "    dict2 = {}\n",
    "    dict3 = {}\n",
    "\n",
    "    for xy in temp_dict:\n",
    "        dict[length] = xy\n",
    "        dict1[xy] = length\n",
    "        length += 1\n",
    "\n",
    "    length = 0\n",
    "    for xy in temp_data:\n",
    "        dict2[length] = xy\n",
    "        dict3[xy] = length\n",
    "        length += 1\n",
    "\n",
    "    data_set = pickle.load(open(r'goal_set.p', 'rb'))\n",
    "    data = data_set['train'] + data_set['test'] + data_set['validate']\n",
    "    count1 = 0\n",
    "    \n",
    "    for xy in data:\n",
    "        count1 += 1\n",
    "\n",
    "    X = np.zeros(shape=(count1, temp_dict[\"Total Symptom\"]), dtype=np.uint8)\n",
    "    y = np.zeros(shape=(1, count1), dtype=np.uint8)\n",
    "    y = y.flatten()\n",
    "    count1 = 0\n",
    "    \n",
    "    \n",
    "    for xy in data:\n",
    "        for xx in xy['goal']['explicit_inform_slots']:\n",
    "            X[count1][dict1[xx]] = 1\n",
    "        for xx in xy['goal']['implicit_inform_slots']:\n",
    "            X[count1][dict1[xx]] = 1\n",
    "        y[count1] = dict3[xy['disease_tag']]\n",
    "        count1 += 1\n",
    "    \n",
    "    X_train, X_test, y_train, y_test = train_test_split(X, y, test_size = 0.2, random_state = 0)\n",
    "    #a = model.feature_importances_\n",
    "    tot = int(temp_dict[\"Total Symptom\"])\n",
    "    tot = int((70*tot + 99)/100)\n",
    "    bestfeatures = SelectKBest(score_func=chi2, k = tot)\n",
    "    #bestfeatures = ExtraTreesClassifier(n_estimators = tot)\n",
    "    \n",
    "    #mi\n",
    "    \n",
    "    #f_selector = SelectKBest(score_func=mutual_info_regression, k='all')\n",
    "    #f_selector.fit(X_train, y_train)\n",
    "    from sklearn.preprocessing import MinMaxScaler\n",
    "    #chi2\n",
    "    fit = bestfeatures.fit(X_train, y_train)\n",
    "    \n",
    "    X = bestfeatures.transform(X)\n",
    "    #dfscores = f_selector.scores_\n",
    "    dfscores = fit.scores_\n",
    "    amin, amax = min(dfscores), max(dfscores)\n",
    "    #print(dfscores)\n",
    "    #for i, val in enumerate(dfscores):\n",
    "        #dfscores[i] = (val-amin) / (amax-amin)\n",
    "    #print(dfscores)\n",
    "    l = []\n",
    "    timer = 0\n",
    "    print(\"debug\")\n",
    "    for i in dfscores:\n",
    "        l.append((i, dict[timer]))\n",
    "        timer += 1\n",
    "    l.sort()\n",
    "    #print(timer)\n",
    "    res = {}\n",
    "    for i, j in l:\n",
    "        res[j] = float(i)\n",
    "    #pickle.dump(obj = res, file = open(r'out3.p', 'wb'), protocol = 2)\n",
    "    #l.reverse()\n",
    "    print(l)\n",
    "    r = []\n",
    "    res = {}\n",
    "    for i in range (0, tot):\n",
    "        r.append(l[i])\n",
    "    res = {}\n",
    "    timer = 0\n",
    "    for i, j in r:\n",
    "        res[j] = float(i)\n",
    "        timer += 1\n",
    "    print(res)\n",
    "    print(timer)\n",
    "    pickle.dump(obj = res, file = open(r'no_name.p', 'wb'), protocol = 2)\n",
    "    #Arm weakness Cross-eyed Elbow weakness"
   ]
  },
  {
   "cell_type": "markdown",
   "id": "considered-harbor",
   "metadata": {},
   "source": [
    "## Disease Classifier"
   ]
  },
  {
   "cell_type": "code",
   "execution_count": 2,
   "id": "closed-programmer",
   "metadata": {},
   "outputs": [
    {
     "name": "stdout",
     "output_type": "stream",
     "text": [
      "1\n",
      "65\n",
      "66\n",
      "0.855\n",
      "2\n",
      "89\n",
      "90\n",
      "0.985\n",
      "3\n",
      "68\n",
      "69\n",
      "0.863\n",
      "4\n",
      "58\n",
      "59\n",
      "0.927\n",
      "5\n",
      "46\n",
      "47\n",
      "0.784\n",
      "6\n",
      "51\n",
      "52\n",
      "0.797\n",
      "7\n",
      "62\n",
      "63\n",
      "0.952\n",
      "8\n",
      "69\n",
      "70\n",
      "0.958\n",
      "9\n",
      "73\n",
      "74\n",
      "0.874\n",
      " \n",
      "0.8883333333333332\n",
      "581\n",
      "590\n"
     ]
    }
   ],
   "source": [
    "# classifier\n",
    "idx = [1, 2, 3, 4, 5, 6, 7, 8, 9]\n",
    "avg = 0\n",
    "d = 0\n",
    "nd = 0\n",
    "\n",
    "for z in idx:\n",
    "    temp_dict = pickle.load(open(r'label' + str(z) + '\\out2.p', 'rb'))\n",
    "    temp_data = pickle.load(open(r'label' + str(z) + '\\out1.p', 'rb'))\n",
    "    dis = pickle.load(open(r'label' + str(z) + '\\out2.p', 'rb'))\n",
    "    \n",
    "    data_set = pickle.load(open(r'label' + str(z) + '\\goal_set.p', 'rb'))\n",
    "    data = data_set['train'] + data_set['test'] + data_set['validate']\n",
    "    #temp_dict.pop('Total Symptom')\n",
    "\n",
    "    dict_sym_i ={}\n",
    "    dict_i_sym = {}\n",
    "    total_sym = 0\n",
    "    for xy in temp_dict:\n",
    "        dict_sym_i[xy] = total_sym\n",
    "        dict_i_sym[total_sym] = xy\n",
    "        total_sym += 1\n",
    "        \n",
    "    #pickle.dump(obj = dict_sym_i, file = open('dict_sym_i.p', 'wb'), protocol = 2)\n",
    "    #pickle.dump(obj = dict_i_sym, file = open('dict_i_sym.p', 'wb'), protocol = 2)\n",
    "    \n",
    "    dict_dis_i = {}\n",
    "    dict_i_dis = {}\n",
    "    total_dis = 0\n",
    "    for xy in temp_data:\n",
    "        dict_dis_i[xy] = total_dis\n",
    "        dict_i_dis[total_dis] = xy\n",
    "        total_dis +=1\n",
    "    #pickle.dump(obj = dict_dis_i, file = open('dict_dis_i.p', 'wb'), protocol = 2)\n",
    "    #pickle.dump(obj = dict_i_dis, file = open('dict_i_dis.p', 'wb'), protocol = 2)\n",
    "    \n",
    "    total_dia = 0\n",
    "    for xy in data:\n",
    "        total_dia += 1\n",
    "    \n",
    "    print(z)\n",
    "    print(dis['Total Symptom'])\n",
    "    print(total_sym)\n",
    "    X = np.zeros(shape=(total_dia, total_sym), dtype=np.uint8)\n",
    "    y = np.zeros(shape=(1, total_dia), dtype=np.uint8)\n",
    "    y = y.flatten()\n",
    "    total_dia = 0\n",
    "    \n",
    "    for xy in data:\n",
    "        for xx in xy['goal']['explicit_inform_slots']:\n",
    "            if xx in dict_sym_i:\n",
    "                X[total_dia][dict_sym_i[xx]] = 1\n",
    "        for xx in xy['goal']['implicit_inform_slots']:\n",
    "            if xx in dict_sym_i:\n",
    "                X[total_dia][dict_sym_i[xx]] = 1\n",
    "        y[total_dia] = dict_dis_i[xy['disease_tag']]\n",
    "        total_dia += 1\n",
    "        \n",
    "    X_train, X_test, y_train, y_test = train_test_split(X, y, test_size = 0.2, random_state = 0)\n",
    "    classifier = SVC(kernel = 'linear', random_state = 0)\n",
    "    classifier.fit(X_train, y_train)\n",
    "    y_pred = classifier.predict(X_test)\n",
    "    print(accuracy_score(y_test, y_pred))\n",
    "    \n",
    "    avg += accuracy_score(y_test, y_pred)\n",
    "    d += dis['Total Symptom']\n",
    "    nd += total_sym\n",
    "    #pickle.dump(classifier, open(r'label' + str(z) + '\\or.sav', 'wb'))\n",
    "\n",
    "print(\" \")\n",
    "print(avg/9)\n",
    "print(d)\n",
    "print(nd)"
   ]
  },
  {
   "cell_type": "code",
   "execution_count": 1,
   "id": "median-upset",
   "metadata": {},
   "outputs": [],
   "source": [
    "# 1\n",
    "from sklearn.feature_selection import RFE\n",
    "from sklearn.linear_model import LogisticRegression\n",
    "model = LogisticRegression()\n",
    "\n",
    "from sklearn.model_selection import train_test_split\n",
    "from sklearn.ensemble import RandomForestClassifier\n",
    "\n",
    "from sklearn.feature_selection import chi2\n",
    "from sklearn.feature_selection import SelectKBest, SelectPercentile\n",
    "from sklearn.metrics import accuracy_score\n",
    "from sklearn.ensemble import ExtraTreesClassifier\n",
    "from sklearn.linear_model import LogisticRegression\n",
    "from sklearn.metrics import confusion_matrix, accuracy_score\n",
    "from sklearn.svm import SVC\n",
    "\n",
    "import numpy as np\n",
    "import pandas as pd\n",
    "import seaborn as sns\n",
    "import matplotlib.pyplot as plt\n",
    "%matplotlib inline\n",
    "\n",
    "from sklearn.feature_selection import mutual_info_regression\n",
    "\n",
    "\n",
    "import pickle\n",
    "import os\n",
    "import re"
   ]
  },
  {
   "cell_type": "code",
   "execution_count": 2,
   "id": "spatial-contact",
   "metadata": {
    "scrolled": true
   },
   "outputs": [
    {
     "name": "stdout",
     "output_type": "stream",
     "text": [
      "1\n",
      "0.391\n",
      "2\n",
      "0.4335\n",
      "3\n",
      "0.4643333333333333\n",
      "4\n",
      "0.4846666666666667\n",
      "5\n",
      "0.506\n",
      "6\n",
      "0.5251666666666667\n",
      "7\n",
      "0.5525\n",
      "8\n",
      "0.5663333333333334\n",
      "9\n",
      "0.5776666666666667\n",
      "10\n",
      "0.5868333333333333\n",
      " \n"
     ]
    }
   ],
   "source": [
    "# classifier new\n",
    "\n",
    "idx = [1,2,3,4,5,6,7,8,9,10]\n",
    "avg = 0\n",
    "d = 0\n",
    "nd = 0\n",
    "\n",
    "for z in idx:\n",
    "    temp_dict = pickle.load(open(r'out2.p', 'rb'))\n",
    "    temp_data = pickle.load(open(r'out1.p', 'rb'))\n",
    "    \n",
    "    association = pickle.load(open(r'SD++.p', 'rb'))\n",
    "    a_i_s = pickle.load(open(r'IDS.p', 'rb'))\n",
    "    a_s_i = pickle.load(open(r'SID.p', 'rb'))\n",
    "    \n",
    "    #dis = pickle.load(open(r'label' + str(z) + '\\out2.p', 'rb'))\n",
    "    \n",
    "    data_set = pickle.load(open(r'goal_set.p', 'rb'))\n",
    "    data = data_set['train'] + data_set['test'] + data_set['validate']\n",
    "    #temp_dict.pop('Total Symptom')\n",
    "\n",
    "    dict_sym_i ={}\n",
    "    dict_i_sym = {}\n",
    "    total_sym = 0\n",
    "    \n",
    "    print(z)\n",
    "    #print(dis['Total Symptom'])\n",
    "    del temp_dict['Total Symptom']\n",
    "    \n",
    "    for xy in temp_dict:\n",
    "        dict_sym_i[xy] = total_sym\n",
    "        dict_i_sym[total_sym] = xy\n",
    "        total_sym += 1\n",
    "        \n",
    "    #print(total_sym)   \n",
    "    #pickle.dump(obj = dict_sym_i, file = open('dict_sym_i.p', 'wb'), protocol = 2)\n",
    "    #pickle.dump(obj = dict_i_sym, file = open('dict_i_sym.p', 'wb'), protocol = 2)\n",
    "    \n",
    "    dict_dis_i = {}\n",
    "    dict_i_dis = {}\n",
    "    total_dis = 0\n",
    "    for xy in temp_data:\n",
    "        dict_dis_i[xy] = total_dis\n",
    "        dict_i_dis[total_dis] = xy\n",
    "        total_dis +=1\n",
    "    #pickle.dump(obj = dict_dis_i, file = open('dict_dis_i.p', 'wb'), protocol = 2)\n",
    "    #pickle.dump(obj = dict_i_dis, file = open('dict_i_dis.p', 'wb'), protocol = 2)\n",
    "    \n",
    "    total_dia = 0\n",
    "    for xy in data:\n",
    "        total_dia += 1\n",
    "    \n",
    "    \n",
    "    X = np.zeros(shape=(total_dia, total_sym), dtype=np.uint8)\n",
    "    y = np.zeros(shape=(1, total_dia), dtype=np.uint8)\n",
    "    y = y.flatten()\n",
    "    total_dia = 0\n",
    "    \n",
    "    for xy in data:\n",
    "        explicit_count = 0\n",
    "        already = {}\n",
    "        tl = {}\n",
    "        for xx in xy['goal']['explicit_inform_slots']:\n",
    "            X[total_dia][dict_sym_i[xx]] = 1\n",
    "            explicit_count += 1\n",
    "            already[xx] = 0\n",
    "            l = []\n",
    "            for x in association[a_s_i[xx]]:\n",
    "                if x in a_i_s:\n",
    "                    l.append((association[a_s_i[xx]][x],a_i_s[x]))\n",
    "\n",
    "            for work in range (0, z):\n",
    "                for wx, wy in l:\n",
    "                    if wy in tl:\n",
    "                        tl[wy] = tl[wy] + wx \n",
    "                    else:\n",
    "                        tl[wy] = wx\n",
    "                        \n",
    "                l.clear()\n",
    "                for aa in tl:\n",
    "                    l.append((tl[aa], aa))\n",
    "                l.sort()\n",
    "                l.reverse()\n",
    "                #print(l)\n",
    "                for wx, wy in l:\n",
    "                    if wy not in already:\n",
    "                        already[wy] = 0\n",
    "                        break\n",
    "                l.clear()\n",
    "                for x in association[a_s_i[wy]]:\n",
    "                    if x in a_i_s:\n",
    "                        l.append((association[a_s_i[wy]][x],a_i_s[x]))\n",
    "        \n",
    "        for xx in xy['goal']['implicit_inform_slots']:\n",
    "            if xx in already:\n",
    "                X[total_dia][dict_sym_i[xx]] = 1\n",
    "            #currently not considering !!!\n",
    "            temp = 0\n",
    "            \n",
    "        assert explicit_count == 1\n",
    "        \n",
    "        y[total_dia] = dict_dis_i[xy['disease_tag']]\n",
    "        total_dia += 1\n",
    "        \n",
    "    X_train, X_test, y_train, y_test = train_test_split(X, y, test_size = 0.2, random_state = 0)\n",
    "    classifier = SVC(kernel = 'linear', random_state = 0)\n",
    "    classifier.fit(X_train, y_train)\n",
    "    y_pred = classifier.predict(X_test)\n",
    "    print(accuracy_score(y_test, y_pred))\n",
    "    \n",
    "    avg += accuracy_score(y_test, y_pred)\n",
    "    #d += dis['Total Symptom']\n",
    "    #nd += total_sym\n",
    "    #pickle.dump(classifier, open(r'label' + str(z) + '\\or.sav', 'wb'))\n",
    "\n",
    "print(\" \")\n",
    "#print(avg/9)\n",
    "#print(d)\n",
    "#print(nd)"
   ]
  },
  {
   "cell_type": "code",
   "execution_count": 9,
   "id": "heavy-gentleman",
   "metadata": {},
   "outputs": [
    {
     "name": "stdout",
     "output_type": "stream",
     "text": [
      "[(3, 4), (2, 1), (0, -1), (0, -3)]\n"
     ]
    }
   ],
   "source": [
    "tempp = [(3,4),(2,1),(0,-1),(0,-3)]\n",
    "tempp.sort()\n",
    "tempp.reverse()\n",
    "print(tempp)"
   ]
  },
  {
   "cell_type": "code",
   "execution_count": 16,
   "id": "featured-williams",
   "metadata": {
    "scrolled": true
   },
   "outputs": [
    {
     "name": "stdout",
     "output_type": "stream",
     "text": [
      "Skin rash\n",
      "{'S_237': 'Abnormal appearing skin', 'S_141': 'Abnormal involuntary movements', 'S_180': 'Abnormal movement of eyelid', 'S_242': 'Abnormal size or shape of ear', 'S_99': 'Absence of menstruation', 'S_41': 'Abusing alcohol', 'S_88': 'Ache all over', 'S_29': 'Acne or pimples', 'S_169': 'Allergic reaction', 'S_131': 'Ankle pain', 'S_87': 'Ankle stiffness or tightness', 'S_76': 'Ankle swelling', 'S_10': 'Anxiety and nervousness', 'S_53': 'Apnea', 'S_199': 'Arm lump or mass', 'S_77': 'Arm pain', 'S_250': 'Arm stiffness or tightness', 'S_245': 'Arm swelling', 'S_3': 'Arm weakness', 'S_35': 'Back cramps or spasms', 'S_189': 'Back mass or lump', 'S_73': 'Back pain', 'S_142': 'Back stiffness or tightness', 'S_94': 'Back weakness', 'S_123': 'Bladder mass', 'S_235': 'Bleeding from eye', 'S_216': 'Bleeding gums', 'S_46': 'Bleeding or discharge from nipple', 'S_262': 'Blindness', 'S_254': 'Blood in urine', 'S_158': 'Bones are painful', 'S_257': 'Bowlegged or knock-kneed', 'S_232': 'Burning abdominal pain', 'S_58': 'Chest tightness', 'S_172': 'Chills', 'S_226': 'Congestion in chest', 'S_156': 'Coryza', 'S_0': 'Cough', 'S_212': 'Cramps and spasms', 'S_97': 'Cross-eyed', 'S_264': 'Decreased appetite', 'S_209': 'Decreased heart rate', 'S_201': 'Delusions or hallucinations', 'S_13': 'Depression', 'S_175': 'Depressive or psychotic symptoms', 'S_89': 'Diaper rash', 'S_16': 'Diarrhea', 'S_186': 'Difficulty breathing', 'S_56': 'Difficulty eating', 'S_236': 'Difficulty in swallowing', 'S_261': 'Difficulty speaking', 'S_21': 'Diminished hearing', 'S_173': 'Diminished vision', 'S_222': 'Disturbance of memory', 'S_20': 'Disturbance of smell or taste', 'S_244': 'Dizziness', 'S_258': 'Double vision', 'S_153': 'Drainage in throat', 'S_34': 'Drug abuse', 'S_251': 'Dry or flaky scalp', 'S_155': 'Ear pain', 'S_176': 'Elbow cramps or spasms', 'S_143': 'Elbow pain', 'S_185': 'Elbow weakness', 'S_198': 'Emotional symptoms', 'S_231': 'Excessive anger', 'S_28': 'Excessive appetite', 'S_224': 'Excessive growth', 'S_161': 'Excessive urination at night', 'S_18': 'Eye burns or stings', 'S_38': 'Eye deviation', 'S_5': 'Eye redness', 'S_66': 'Eye strain', 'S_74': 'Eyelid lesion or rash', 'S_167': 'Eyelid swelling', 'S_247': 'Facial pain', 'S_253': 'Fainting', 'S_165': 'Fatigue', 'S_12': 'Fears and phobias', 'S_126': 'Feeling cold', 'S_109': 'Feeling hot and cold', 'S_134': 'Feeling ill', 'S_24': 'Feet turned in', 'S_213': 'Fever', 'S_63': 'Fluid in ear', 'S_197': 'Fluid retention', 'S_55': 'Focal weakness', 'S_60': 'Foot or toe lump or mass', 'S_67': 'Foot or toe pain', 'S_238': 'Foot or toe stiffness or tightness', 'S_50': 'Foot or toe swelling', 'S_72': 'Foreign body sensation in eye', 'S_26': 'Frequent menstruation', 'S_202': 'Frequent urination', 'S_193': 'Frontal headache', 'S_259': 'Groin mass', 'S_78': 'Groin pain', 'S_75': 'Hand or finger cramps or spasms', 'S_39': 'Hand or finger lump or mass', 'S_220': 'Hand or finger pain', 'S_217': 'Hand or finger stiffness or tightness', 'S_100': 'Hand or finger swelling', 'S_182': 'Hand or finger weakness', 'S_71': 'Headache', 'S_241': 'Heavy menstrual flow', 'S_128': 'Hemoptysis', 'S_90': 'Hip pain', 'S_152': 'Hip stiffness or tightness', 'S_105': 'Hoarse voice', 'S_139': 'Hostile behavior', 'S_171': 'Hot flashes', 'S_17': 'Hurts to breath', 'S_188': 'Hysterical behavior', 'S_260': 'Impotence', 'S_219': 'Incontinence of stool', 'S_110': 'Increased heart rate', 'S_240': 'Infant spitting up', 'S_57': 'Infertility', 'S_33': 'Infrequent menstruation', 'S_230': 'Insomnia', 'S_214': 'Intermenstrual bleeding', 'S_215': 'Involuntary urination', 'S_168': 'Irregular appearing scalp', 'S_137': 'Irregular belly button', 'S_81': 'Irregular heartbeat', 'S_65': 'Irritable infant', 'S_80': 'Itchiness of eye', 'S_249': 'Itching of scrotum', 'S_204': 'Itching of skin', 'S_37': 'Itchy eyelid', 'S_8': 'Itchy scalp', 'S_104': 'Joint pain', 'S_192': 'Joint stiffness or tightness', 'S_162': 'Kidney mass', 'S_82': 'Knee lump or mass', 'S_163': 'Knee pain', 'S_148': 'Knee stiffness or tightness', 'S_205': 'Knee swelling', 'S_40': 'Knee weakness', 'S_118': 'Lack of growth', 'S_144': 'Lacrimation', 'S_107': 'Leg cramps or spasms', 'S_164': 'Leg pain', 'S_48': 'Leg swelling', 'S_23': 'Leg weakness', 'S_51': 'Lip swelling', 'S_95': 'Long menstrual periods', 'S_211': 'Loss of sensation', 'S_252': 'Loss of sex drive', 'S_36': 'Low back pain', 'S_83': 'Low back weakness', 'S_45': 'Low self-esteem', 'S_138': 'Lower abdominal pain', 'S_44': 'Lower body pain', 'S_59': 'Lump or mass of breast', 'S_103': 'Lymphedema', 'S_151': 'Mass in scrotum', 'S_200': 'Mass on eyelid', 'S_117': 'Mass on vulva', 'S_108': 'Mouth ulcer', 'S_184': 'Muscle cramps, contractures, or spasms', 'S_25': 'Muscle pain', 'S_62': 'Muscle stiffness or tightness', 'S_61': 'Muscle swelling', 'S_132': 'Muscle weakness', 'S_120': 'Nailbiting', 'S_218': 'Nasal congestion', 'S_178': 'Nausea', 'S_27': 'Neck cramps or spasms', 'S_154': 'Neck pain', 'S_248': 'Neck stiffness or tightness', 'S_159': 'Neck swelling', 'S_101': 'Nightmares', 'S_91': 'Nose deformity', 'S_15': 'Pain during intercourse', 'S_179': 'Pain during pregnancy', 'S_239': 'Pain in eye', 'S_116': 'Pain in testicles', 'S_196': 'Pain or soreness of breast', 'S_42': 'Painful menstruation', 'S_243': 'Painful sinuses', 'S_206': 'Painful urination', 'S_7': 'Palpitations', 'S_170': 'Paresthesia', 'S_6': 'Pelvic pain', 'S_102': 'Penile discharge', 'S_194': 'Penis pain', 'S_79': 'Penis redness', 'S_265': 'Peripheral edema', 'S_191': 'Plugged feeling in ear', 'S_187': 'Polyuria', 'S_85': 'Poor circulation', 'S_125': 'Premature ejaculation', 'S_147': 'Problems during pregnancy', 'S_70': 'Problems with movement', 'S_2': 'Pulling at ears', 'S_234': 'Pus in sputum', 'S_68': 'Pus in urine', 'S_22': 'Redness in ear', 'S_190': 'Restlessness', 'S_30': 'Retention of urine', 'S_183': 'Rib pain', 'S_47': 'Ringing in ear', 'S_93': 'Scanty menstrual flow', 'S_19': 'Seizures', 'S_121': 'Sharp abdominal pain', 'S_263': 'Sharp chest pain', 'S_208': 'Shortness of breath', 'S_96': 'Shoulder cramps or spasms', 'S_210': 'Shoulder pain', 'S_221': 'Shoulder stiffness or tightness', 'S_124': 'Shoulder swelling', 'S_43': 'Side pain', 'S_135': 'Sinus congestion', 'S_11': 'Skin dryness, peeling, scaliness, or roughness', 'S_4': 'Skin growth', 'S_177': 'Skin irritation', 'S_166': 'Skin lesion', 'S_129': 'Skin moles', 'S_106': 'Skin on arm or hand looks infected', 'S_32': 'Skin on leg or foot looks infected', 'S_86': 'Skin pain', 'S_31': 'Skin rash', 'S_227': 'Skin swelling', 'S_207': 'Sleepiness', 'S_160': 'Sneezing', 'S_255': 'Sore throat', 'S_52': 'Spots or clouds in vision', 'S_111': 'Spotting or bleeding during pregnancy', 'S_174': 'Stiffness all over', 'S_64': 'Suprapubic pain', 'S_119': 'Sweating', 'S_130': 'Swelling of scrotum', 'S_223': 'Swollen abdomen', 'S_1': 'Swollen eye', 'S_181': 'Swollen or red tonsils', 'S_69': 'Swollen tongue', 'S_115': 'Symptoms of bladder', 'S_112': 'Symptoms of eye', 'S_203': 'Symptoms of prostate', 'S_54': 'Symptoms of the face', 'S_149': 'Symptoms of the kidneys', 'S_150': 'Temper problems', 'S_9': 'Thirst', 'S_145': 'Throat swelling', 'S_136': 'Too little hair', 'S_92': 'Unpredictable menstruation', 'S_225': 'Unusual color or odor to urine', 'S_233': 'Unwanted hair', 'S_246': 'Vaginal bleeding after menopause', 'S_49': 'Vaginal discharge', 'S_146': 'Vaginal itching', 'S_140': 'Vaginal pain', 'S_127': 'Vomiting', 'S_113': 'Vomiting blood', 'S_256': 'Vulvar sore', 'S_133': 'Warts', 'S_84': 'Weakness', 'S_195': 'Weight gain', 'S_98': 'White discharge from eye', 'S_228': 'Wrinkles on skin', 'S_14': 'Wrist lump or mass', 'S_229': 'Wrist pain', 'S_157': 'Wrist stiffness or tightness', 'S_114': 'Wrist swelling', 'S_122': 'Wrist weakness'}\n"
     ]
    }
   ],
   "source": [
    "#testing\n",
    "association = pickle.load(open(r'SD++.p', 'rb'))\n",
    "a_i_s = pickle.load(open(r'IDS.p', 'rb'))\n",
    "a_s_i = pickle.load(open(r'SID.p', 'rb'))\n",
    "\n",
    "#print(association['S_237'])\n",
    "l = []\n",
    "for x in association['S_237']:\n",
    "    if x in a_i_s:\n",
    "        l.append((association['S_237'][x],a_i_s[x]))\n",
    "l.sort\n",
    "l.reverse\n",
    "print(l[0][1])\n",
    "print(a_i_s)"
   ]
  },
  {
   "cell_type": "code",
   "execution_count": 25,
   "id": "serial-skating",
   "metadata": {},
   "outputs": [
    {
     "name": "stdout",
     "output_type": "stream",
     "text": [
      "1\n",
      "0.855\n",
      "2\n",
      "0.985\n",
      "3\n",
      "0.862\n",
      "4\n",
      "0.929\n",
      "5\n",
      "0.78\n",
      "6\n",
      "0.799\n",
      "7\n",
      "0.952\n",
      "8\n",
      "0.959\n",
      "9\n",
      "0.874\n",
      " \n",
      "0.8883333333333333\n",
      "657\n",
      "2394\n"
     ]
    }
   ],
   "source": [
    "#new testing batch 2\n",
    "# classifier new\n",
    "idx = [1, 2, 3, 4, 5, 6, 7, 8, 9]\n",
    "avg = 0\n",
    "d = 0\n",
    "nd = 0\n",
    "\n",
    "for z in idx:\n",
    "    temp_dict = pickle.load(open(r'out2.p', 'rb'))\n",
    "    temp_data = pickle.load(open(r'out1.p', 'rb'))\n",
    "    \n",
    "    association = pickle.load(open(r'SD++.p', 'rb'))\n",
    "    a_i_s = pickle.load(open(r'IDS.p', 'rb'))\n",
    "    a_s_i = pickle.load(open(r'SID.p', 'rb'))\n",
    "    \n",
    "    #dis = pickle.load(open(r'label' + str(z) + '\\out2.p', 'rb'))\n",
    "    \n",
    "    data_set = pickle.load(open(r'label' + str(z) + '\\goal_set.p', 'rb'))\n",
    "    data = data_set['train'] + data_set['test'] + data_set['validate']\n",
    "    #temp_dict.pop('Total Symptom')\n",
    "\n",
    "    dict_sym_i ={}\n",
    "    dict_i_sym = {}\n",
    "    total_sym = 0\n",
    "    \n",
    "    print(z)\n",
    "    #print(dis['Total Symptom'])\n",
    "    del temp_dict['Total Symptom']\n",
    "    \n",
    "    for xy in temp_dict:\n",
    "        dict_sym_i[xy] = total_sym\n",
    "        dict_i_sym[total_sym] = xy\n",
    "        total_sym += 1\n",
    "        \n",
    "    #print(total_sym)   \n",
    "    #pickle.dump(obj = dict_sym_i, file = open('dict_sym_i.p', 'wb'), protocol = 2)\n",
    "    #pickle.dump(obj = dict_i_sym, file = open('dict_i_sym.p', 'wb'), protocol = 2)\n",
    "    \n",
    "    dict_dis_i = {}\n",
    "    dict_i_dis = {}\n",
    "    total_dis = 0\n",
    "    for xy in temp_data:\n",
    "        dict_dis_i[xy] = total_dis\n",
    "        dict_i_dis[total_dis] = xy\n",
    "        total_dis +=1\n",
    "    #pickle.dump(obj = dict_dis_i, file = open('dict_dis_i.p', 'wb'), protocol = 2)\n",
    "    #pickle.dump(obj = dict_i_dis, file = open('dict_i_dis.p', 'wb'), protocol = 2)\n",
    "    \n",
    "    total_dia = 0\n",
    "    for xy in data:\n",
    "        total_dia += 1\n",
    "    \n",
    "    \n",
    "    X = np.zeros(shape=(total_dia, total_sym), dtype=np.uint8)\n",
    "    y = np.zeros(shape=(1, total_dia), dtype=np.uint8)\n",
    "    y = y.flatten()\n",
    "    total_dia = 0\n",
    "    \n",
    "    for xy in data:\n",
    "        explicit_count = 0\n",
    "        \n",
    "        for xx in xy['goal']['explicit_inform_slots']:\n",
    "            X[total_dia][dict_sym_i[xx]] = 1\n",
    "            explicit_count += 1\n",
    "            continue\n",
    "            l = []\n",
    "            for x in association[a_s_i[xx]]:\n",
    "                if x in a_i_s:\n",
    "                    l.append((association['S_237'][x],a_i_s[x]))\n",
    "                    l.sort\n",
    "                    l.reverse\n",
    "            X[total_dia][dict_sym_i[l[0][1]]] = 1\n",
    "            X[total_dia][dict_sym_i[l[1][1]]] = 1\n",
    "            X[total_dia][dict_sym_i[l[2][1]]] = 1\n",
    "        \n",
    "        for xx in xy['goal']['implicit_inform_slots']:\n",
    "            X[total_dia][dict_sym_i[xx]] = 1\n",
    "            #currently not considering !!!\n",
    "            #temp = 0\n",
    "            \n",
    "        assert explicit_count == 1\n",
    "        \n",
    "        y[total_dia] = dict_dis_i[xy['disease_tag']]\n",
    "        total_dia += 1\n",
    "        \n",
    "    X_train, X_test, y_train, y_test = train_test_split(X, y, test_size = 0.2, random_state = 0)\n",
    "    classifier = SVC(kernel = 'linear', random_state = 0)\n",
    "    classifier.fit(X_train, y_train)\n",
    "    y_pred = classifier.predict(X_test)\n",
    "    print(accuracy_score(y_test, y_pred))\n",
    "    \n",
    "    avg += accuracy_score(y_test, y_pred)\n",
    "    d += dis['Total Symptom']\n",
    "    nd += total_sym\n",
    "    #pickle.dump(classifier, open(r'label' + str(z) + '\\or.sav', 'wb'))\n",
    "\n",
    "print(\" \")\n",
    "print(avg/9)\n",
    "print(d)\n",
    "print(nd)"
   ]
  },
  {
   "cell_type": "code",
   "execution_count": null,
   "id": "daily-creature",
   "metadata": {},
   "outputs": [],
   "source": [
    "100 - 0.8883333333333332\n",
    "90  - 0.888\n",
    "80  - 0.8832222222222222 (0.005)\n",
    "70  - 0.8774444444444444 (0.006)"
   ]
  },
  {
   "cell_type": "code",
   "execution_count": 44,
   "id": "advised-mirror",
   "metadata": {},
   "outputs": [
    {
     "name": "stdout",
     "output_type": "stream",
     "text": [
      "1\n",
      "{'Loss of sensation': 0, 'Neck swelling': 1, 'Nausea': 2, 'Lower abdominal pain': 3, 'Swelling of scrotum': 4, 'Pelvic pain': 5, 'Vomiting': 6, 'Sore throat': 7, 'Arm swelling': 8, 'Arm lump or mass': 9, 'Swollen eye': 10, 'Abnormal appearing skin': 11, 'Spotting or bleeding during pregnancy': 12, 'Feeling hot and cold': 13, 'Sharp chest pain': 14, 'Loss of sex drive': 15, 'Headache': 16, 'Groin mass': 17, 'Itchy eyelid': 18, 'Eye redness': 19, 'Frequent urination': 20, 'Cough': 21, 'Shoulder swelling': 22, 'Pain in testicles': 23, 'Penis redness': 24, 'Paresthesia': 25, 'Vulvar sore': 26, 'Problems during pregnancy': 27, 'Cramps and spasms': 28, 'Neck cramps or spasms': 29, 'Irritable infant': 30, 'Ache all over': 31, 'Emotional symptoms': 32, 'Problems with movement': 33, 'Penis pain': 34, 'Elbow weakness': 35, 'Cross-eyed': 36, 'Nailbiting': 37, 'Bowlegged or knock-kneed': 38}\n",
      "2\n",
      "{'Congestion in chest': 0, 'Fever': 1, 'Symptoms of the kidneys': 2, 'Difficulty in swallowing': 3, 'Thirst': 4, 'Irregular heartbeat': 5, 'Loss of sex drive': 6, 'Eye redness': 7, 'Abnormal movement of eyelid': 8, 'Diminished vision': 9, 'Knee lump or mass': 10, 'Joint stiffness or tightness': 11, 'Excessive appetite': 12, 'Anxiety and nervousness': 13, 'Abnormal appearing skin': 14, 'Decreased heart rate': 15, 'Infrequent menstruation': 16, 'Shoulder swelling': 17, 'Loss of sensation': 18, 'Paresthesia': 19, 'Skin lesion': 20, 'Feeling ill': 21, 'Shoulder pain': 22, 'Double vision': 23, 'Peripheral edema': 24, 'Leg swelling': 25, 'Lacrimation': 26, 'Hip stiffness or tightness': 27, 'Drainage in throat': 28, 'Foot or toe pain': 29, 'Skin on leg or foot looks infected': 30, 'Pain in eye': 31, 'Foreign body sensation in eye': 32, 'Itchiness of eye': 33, 'Symptoms of eye': 34, 'Vulvar sore': 35, 'Neck cramps or spasms': 36, 'Leg pain': 37, 'Palpitations': 38, 'Intermenstrual bleeding': 39, 'Sinus congestion': 40, 'Diarrhea': 41, 'Problems with movement': 42, 'Lymphedema': 43, 'Blindness': 44, 'Difficulty breathing': 45, 'Leg cramps or spasms': 46, 'Sweating': 47, 'Feeling hot and cold': 48, 'Abnormal involuntary movements': 49, 'Depressive or psychotic symptoms': 50, 'Polyuria': 51, 'Excessive growth': 52, 'Muscle cramps, contractures, or spasms': 53, 'Hand or finger swelling': 54, 'Hand or finger cramps or spasms': 55, 'Bleeding from eye': 56, 'Bladder mass': 57, 'Bleeding gums': 58, 'Muscle pain': 59, 'Low back weakness': 60, 'Itching of scrotum': 61, 'Muscle swelling': 62, 'Poor circulation': 63, 'Foot or toe stiffness or tightness': 64}\n",
      "3\n",
      "{'Back pain': 0, 'Leg pain': 1, 'Neck pain': 2, 'Ache all over': 3, 'Allergic reaction': 4, 'Cough': 5, 'Paresthesia': 6, 'Lip swelling': 7, 'Drug abuse': 8, 'Sweating': 9, 'Sore throat': 10, 'Focal weakness': 11, 'Seizures': 12, 'Weakness': 13, 'Low back pain': 14, 'Loss of sensation': 15, 'Burning abdominal pain': 16, 'Shoulder pain': 17, 'Pelvic pain': 18, 'Hip pain': 19, 'Chest tightness': 20, 'Decreased appetite': 21, 'Weight gain': 22, 'Nailbiting': 23, 'Knee pain': 24, 'Acne or pimples': 25, 'Lower body pain': 26, 'Excessive appetite': 27, 'Vomiting': 28, 'Problems with movement': 29, 'Elbow weakness': 30, 'Palpitations': 31, 'Difficulty eating': 32, 'Nausea': 33, 'Hysterical behavior': 34, 'Back weakness': 35, 'Restlessness': 36, 'Itchy eyelid': 37, 'Wrist weakness': 38, 'Vomiting blood': 39, 'Dizziness': 40, 'Temper problems': 41, 'Excessive growth': 42, 'Irregular heartbeat': 43, 'Increased heart rate': 44, 'Low back weakness': 45, 'Muscle swelling': 46, 'Pus in urine': 47}\n",
      "4\n",
      "{'Diminished vision': 0, 'Foot or toe pain': 1, 'Anxiety and nervousness': 2, 'Neck stiffness or tightness': 3, 'Painful sinuses': 4, 'Focal weakness': 5, 'Vomiting': 6, 'Hip pain': 7, 'Muscle cramps, contractures, or spasms': 8, 'Leg cramps or spasms': 9, 'Difficulty in swallowing': 10, 'Elbow pain': 11, 'Wrist pain': 12, 'Fever': 13, 'Shoulder pain': 14, 'Hand or finger swelling': 15, 'Muscle weakness': 16, 'Insomnia': 17, 'Facial pain': 18, 'Cramps and spasms': 19, 'Hand or finger stiffness or tightness': 20, 'Depressive or psychotic symptoms': 21, 'Depression': 22, 'Hostile behavior': 23, 'Muscle pain': 24, 'Lower body pain': 25, 'Irregular appearing scalp': 26, 'Muscle stiffness or tightness': 27, 'Wrist swelling': 28, 'Arm weakness': 29, 'Hoarse voice': 30, 'Eye burns or stings': 31}\n",
      "5\n",
      "{'Ear pain': 0, 'Eyelid swelling': 1, 'Skin rash': 2, 'Wrinkles on skin': 3, 'Nasal congestion': 4, 'Elbow pain': 5, 'Painful sinuses': 6, 'Paresthesia': 7, 'Diminished hearing': 8, 'Plugged feeling in ear': 9, 'Fluid in ear': 10, 'Sneezing': 11, 'Cough': 12, 'Allergic reaction': 13, 'Redness in ear': 14, 'Painful urination': 15, 'Ringing in ear': 16, 'Dizziness': 17, 'Swollen or red tonsils': 18, 'Difficulty speaking': 19, 'Eye deviation': 20, 'Skin lesion': 21, 'Irregular heartbeat': 22, 'Foot or toe pain': 23, 'Hoarse voice': 24, 'Elbow cramps or spasms': 25, 'Low self-esteem': 26, 'Lack of growth': 27, 'Muscle swelling': 28}\n",
      "6\n",
      "{'Vomiting': 0, 'Dry or flaky scalp': 1, 'Ankle pain': 2, 'Weight gain': 3, 'Pain or soreness of breast': 4, 'Pain in eye': 5, 'Back pain': 6, 'Irritable infant': 7, 'Suprapubic pain': 8, 'Nasal congestion': 9, 'Too little hair': 10, 'Infertility': 11, 'Diarrhea': 12, 'Mouth ulcer': 13, 'Difficulty in swallowing': 14, 'Foot or toe lump or mass': 15, 'Difficulty speaking': 16, 'Lack of growth': 17, 'Long menstrual periods': 18, 'Infant spitting up': 19, 'Frequent urination': 20, 'Coryza': 21, 'Swollen eye': 22, 'Diaper rash': 23, 'Itchy scalp': 24, 'Incontinence of stool': 25, 'Pulling at ears': 26, 'Apnea': 27, 'Unwanted hair': 28, 'Nose deformity': 29, 'Disturbance of smell or taste': 30, 'Penis redness': 31}\n",
      "7\n",
      "{'Symptoms of eye': 0, 'Foot or toe stiffness or tightness': 1, 'Skin swelling': 2, 'Feet turned in': 3, 'Skin rash': 4, 'Feeling ill': 5, 'Fever': 6, 'Hand or finger lump or mass': 7, 'Wrist lump or mass': 8, 'Knee lump or mass': 9, 'Cramps and spasms': 10, 'Leg weakness': 11, 'Sharp chest pain': 12, 'Knee stiffness or tightness': 13, 'Difficulty in swallowing': 14, 'Knee weakness': 15, 'Weight gain': 16, 'Loss of sensation': 17, 'Side pain': 18, 'Ankle stiffness or tightness': 19, 'Shoulder stiffness or tightness': 20, 'Foot or toe swelling': 21, 'Wrist stiffness or tightness': 22, 'Skin on arm or hand looks infected': 23, 'Peripheral edema': 24, 'Lymphedema': 25, 'Bones are painful': 26, 'Rib pain': 27, 'Groin pain': 28, 'Ankle swelling': 29, 'Retention of urine': 30, 'Back stiffness or tightness': 31, 'Shoulder swelling': 32, 'Back cramps or spasms': 33, 'Abnormal involuntary movements': 34}\n",
      "8\n",
      "{'Abnormal size or shape of ear': 0, 'Sharp chest pain': 1, 'Dizziness': 2, 'Back pain': 3, 'Fatigue': 4, 'Suprapubic pain': 5, 'Vomiting': 6, 'Weakness': 7, 'Swelling of scrotum': 8, 'Kidney mass': 9, 'Groin pain': 10, 'Symptoms of prostate': 11, 'Impotence': 12, 'Pain or soreness of breast': 13, 'Lump or mass of breast': 14, 'Nausea': 15, 'Vaginal itching': 16, 'Skin irritation': 17, 'Symptoms of bladder': 18, 'Vaginal pain': 19, 'Painful menstruation': 20, 'Burning abdominal pain': 21, 'Frequent menstruation': 22, 'Premature ejaculation': 23, 'Cramps and spasms': 24, 'Swollen abdomen': 25, 'Mass in scrotum': 26, 'Chills': 27, 'Lower body pain': 28, 'Penis pain': 29, 'Leg cramps or spasms': 30, 'Excessive urination at night': 31, 'Unwanted hair': 32, 'Infrequent menstruation': 33, 'Unusual color or odor to urine': 34, 'Mass on vulva': 35, 'Irregular belly button': 36, 'Back weakness': 37, 'Feeling cold': 38, 'Pus in sputum': 39, 'Muscle swelling': 40, 'Elbow cramps or spasms': 41, 'Low back weakness': 42, 'Scanty menstrual flow': 43}\n",
      "9\n",
      "{'Knee pain': 0, 'Diarrhea': 1, 'Frontal headache': 2, 'Elbow cramps or spasms': 3, 'Disturbance of memory': 4, 'Neck pain': 5, 'Diminished vision': 6, 'Eye redness': 7, 'Symptoms of eye': 8, 'Foreign body sensation in eye': 9, 'Diminished hearing': 10, 'Swollen tongue': 11, 'Fainting': 12, 'Lacrimation': 13, 'Groin pain': 14, 'Delusions or hallucinations': 15, 'Focal weakness': 16, 'Sharp chest pain': 17, 'Throat swelling': 18, 'Cough': 19, 'Skin swelling': 20, 'Shoulder pain': 21, 'Arm pain': 22, 'Problems with movement': 23, 'Eye burns or stings': 24, 'Hurts to breath': 25, 'Feeling hot and cold': 26, 'Fluid retention': 27, 'Eyelid lesion or rash': 28, 'Back mass or lump': 29, 'Eyelid swelling': 30, 'Double vision': 31, 'Elbow weakness': 32, 'Excessive growth': 33, 'Wrist weakness': 34, 'White discharge from eye': 35}\n"
     ]
    }
   ],
   "source": [
    "# useless things onwards\n",
    "idx = [1, 2, 3, 4, 5, 6, 7, 8, 9]\n",
    "\n",
    "for z in idx:\n",
    "    print(z)\n",
    "    temp_dict = pickle.load(open(r'label' + str(z) + '\\out2.p', 'rb'))\n",
    "    temp_data = pickle.load(open(r'label' + str(z) + '\\out1.p', 'rb'))\n",
    "\n",
    "    dict = {}\n",
    "    dict1 = {}\n",
    "    \n",
    "    length = 0\n",
    "    for xy in temp_dict:\n",
    "        dict[length] = xy\n",
    "        dict1[xy] = length\n",
    "        length += 1\n",
    "\n",
    "    X = np.zeros(shape=(1, temp_dict[\"Total Symptom\"]), dtype=np.uint8)\n",
    "        \n",
    "    for xy in temp_data:\n",
    "        for xx in temp_data[xy]['symptom']:\n",
    "            X[0][dict1[xx]] += 1\n",
    "    #print(X)\n",
    "    \n",
    "    res = {}\n",
    "    timer = 0\n",
    "    for i in range (0, temp_dict[\"Total Symptom\"]):\n",
    "        if X[0][i] == 1:\n",
    "            res[dict[i]] = timer\n",
    "            timer += 1\n",
    "            \n",
    "    print(res)\n",
    "    pickle.dump(obj = res, file = open(r'label' + str(z) + '\\label_unique.p', 'wb'), protocol = 2)   "
   ]
  },
  {
   "cell_type": "code",
   "execution_count": 4,
   "id": "relative-wedding",
   "metadata": {},
   "outputs": [
    {
     "data": {
      "text/plain": [
       "<matplotlib.legend.Legend at 0x24c32278c70>"
      ]
     },
     "execution_count": 4,
     "metadata": {},
     "output_type": "execute_result"
    },
    {
     "data": {
      "image/png": "[encoded data removed]",
      "text/plain": [
       "<Figure size 432x432 with 1 Axes>"
      ]
     },
     "metadata": {
      "needs_background": "light"
     },
     "output_type": "display_data"
    }
   ],
   "source": [
    "from matplotlib import rcParams\n",
    "rcParams['figure.figsize'] = 6, 6\n",
    "x = [1,2,3,4,5,6,7,8,9,10,11,12,13,14,15,16,17,18,19,20,21,22,23,24,25,26,27,28,29,30,31,32,33,34,35,36,37,38,39,40,41,42,43,44,45,46,47,48,49,50]\n",
    "y1 = [0.391\n",
    ",0.428\n",
    ",0.467\n",
    ",0.505\n",
    ",0.533\n",
    ",0.555\n",
    ",0.570\n",
    ",0.591\n",
    ",0.606\n",
    ",0.620\n",
    ",0.639\n",
    ",0.654\n",
    ",0.667\n",
    ",0.680\n",
    ",0.693\n",
    ",0.700\n",
    ",0.707\n",
    ",0.720\n",
    ",0.728\n",
    ",0.733\n",
    ",0.737\n",
    ",0.745\n",
    ",0.748\n",
    ",0.755\n",
    ",0.761\n",
    ",0.764\n",
    ",0.770\n",
    ",0.771\n",
    ",0.775\n",
    ",0.778\n",
    ",0.781\n",
    ",0.785\n",
    ",0.786\n",
    ",0.787\n",
    ",0.788\n",
    ",0.791\n",
    ",0.789\n",
    ",0.790\n",
    ",0.793\n",
    ",0.796\n",
    ",0.797\n",
    ",0.797\n",
    ",0.797\n",
    ",0.797\n",
    ",0.799\n",
    ",0.801\n",
    ",0.801\n",
    ",0.802\n",
    ",0.802\n",
    ",0.802\n",
    "]\n",
    "plt.plot(x, y1, label = 'ex')\n",
    "y2 = [0.391\n",
    ",0.433\n",
    ",0.464\n",
    ",0.484\n",
    ",0.506\n",
    ",0.525\n",
    ",0.552\n",
    ",0.566\n",
    ",0.577\n",
    ",0.586\n",
    ",0.593\n",
    ",0.605\n",
    ",0.608\n",
    ",0.620\n",
    ",0.624\n",
    ",0.625\n",
    ",0.629\n",
    ",0.632\n",
    ",0.636\n",
    ",0.639\n",
    ",0.644\n",
    ",0.651\n",
    ",0.656\n",
    ",0.667\n",
    ",0.674\n",
    ",0.680\n",
    ",0.686\n",
    ",0.690\n",
    ",0.695\n",
    ",0.702\n",
    ",0.703\n",
    ",0.705\n",
    ",0.710\n",
    ",0.712\n",
    ",0.712\n",
    ",0.715\n",
    ",0.715\n",
    ",0.718\n",
    ",0.721\n",
    ",0.722\n",
    ",0.724\n",
    ",0.724\n",
    ",0.728\n",
    ",0.729\n",
    ",0.730\n",
    ",0.729\n",
    ",0.732\n",
    ",0.733\n",
    ",0.734\n",
    ",0.736\n",
    "]\n",
    "plt.plot(x, y2, label = 'con')\n",
    "plt.ylim(0.4, 0.9)\n",
    "plt.legend()"
   ]
  },
  {
   "cell_type": "markdown",
   "id": "stylish-exclusive",
   "metadata": {},
   "source": []
  },
  {
   "cell_type": "code",
   "execution_count": 73,
   "id": "banned-consciousness",
   "metadata": {},
   "outputs": [
    {
     "data": {
      "text/plain": [
       "<matplotlib.legend.Legend at 0x2249dd051f0>"
      ]
     },
     "execution_count": 73,
     "metadata": {},
     "output_type": "execute_result"
    },
    {
     "data": {
      "image/png": "[encoded data removed]",
      "text/plain": [
       "<Figure size 432x432 with 1 Axes>"
      ]
     },
     "metadata": {
      "needs_background": "light"
     },
     "output_type": "display_data"
    }
   ],
   "source": [
    "#1\n",
    "from matplotlib import rcParams\n",
    "rcParams['figure.figsize'] = 6, 6\n",
    "x = [\"70\", \"80\", \"90\"]\n",
    "y1 = [0.847, 0.854, 0.855]\n",
    "plt.plot(x, y1, label = 'chi2')\n",
    "y2 = [0.842, 0.849, 0.854]\n",
    "plt.plot(x, y2, label = 'mi')\n",
    "plt.ylim(0.7, 1)\n",
    "plt.legend()"
   ]
  },
  {
   "cell_type": "code",
   "execution_count": 74,
   "id": "governing-visibility",
   "metadata": {},
   "outputs": [
    {
     "data": {
      "text/plain": [
       "<matplotlib.legend.Legend at 0x2249d788a00>"
      ]
     },
     "execution_count": 74,
     "metadata": {},
     "output_type": "execute_result"
    },
    {
     "data": {
      "image/png": "[encoded data removed]",
      "text/plain": [
       "<Figure size 432x432 with 1 Axes>"
      ]
     },
     "metadata": {
      "needs_background": "light"
     },
     "output_type": "display_data"
    }
   ],
   "source": [
    "#2\n",
    "rcParams['figure.figsize'] = 6, 6\n",
    "x = [\"70\", \"80\", \"90\"]\n",
    "y1 = [0.977, 0.982, 0.985]\n",
    "plt.plot(x, y1, label = 'chi2')\n",
    "y2 = [0.972, 0.976, 0.982]\n",
    "plt.plot(x, y2, label = 'mi')\n",
    "plt.ylim(0.7, 1)\n",
    "plt.legend()"
   ]
  },
  {
   "cell_type": "code",
   "execution_count": 75,
   "id": "blind-setting",
   "metadata": {},
   "outputs": [
    {
     "data": {
      "text/plain": [
       "<matplotlib.legend.Legend at 0x2249d713e80>"
      ]
     },
     "execution_count": 75,
     "metadata": {},
     "output_type": "execute_result"
    },
    {
     "data": {
      "image/png": "[encoded data removed]",
      "text/plain": [
       "<Figure size 432x432 with 1 Axes>"
      ]
     },
     "metadata": {
      "needs_background": "light"
     },
     "output_type": "display_data"
    }
   ],
   "source": [
    "#3\n",
    "rcParams['figure.figsize'] = 6, 6\n",
    "x = [\"70\", \"80\", \"90\"]\n",
    "y1 = [0.847, 0.858, 0.863]\n",
    "plt.plot(x, y1, label = 'chi2')\n",
    "y2 = [0.843, 0.853, 0.86]\n",
    "plt.plot(x, y2, label = 'mi')\n",
    "plt.ylim(0.7, 1)\n",
    "plt.legend()"
   ]
  },
  {
   "cell_type": "code",
   "execution_count": 76,
   "id": "regular-ghana",
   "metadata": {},
   "outputs": [
    {
     "data": {
      "text/plain": [
       "<matplotlib.legend.Legend at 0x2249e22fc10>"
      ]
     },
     "execution_count": 76,
     "metadata": {},
     "output_type": "execute_result"
    },
    {
     "data": {
      "image/png": "[encoded data removed]",
      "text/plain": [
       "<Figure size 432x432 with 1 Axes>"
      ]
     },
     "metadata": {
      "needs_background": "light"
     },
     "output_type": "display_data"
    }
   ],
   "source": [
    "#4\n",
    "rcParams['figure.figsize'] = 6, 6\n",
    "x = [\"70\", \"80\", \"90\"]\n",
    "y1 = [0.92, 0.926, 0.927]\n",
    "plt.plot(x, y1, label = 'chi2')\n",
    "y2 = [0.92, 0.926, 0.927]\n",
    "plt.plot(x, y2, label = 'mi')\n",
    "plt.ylim(0.7, 1)\n",
    "plt.legend()"
   ]
  },
  {
   "cell_type": "code",
   "execution_count": 77,
   "id": "painted-notebook",
   "metadata": {},
   "outputs": [
    {
     "data": {
      "text/plain": [
       "<matplotlib.legend.Legend at 0x2249e285550>"
      ]
     },
     "execution_count": 77,
     "metadata": {},
     "output_type": "execute_result"
    },
    {
     "data": {
      "image/png": "[encoded data removed]",
      "text/plain": [
       "<Figure size 432x432 with 1 Axes>"
      ]
     },
     "metadata": {
      "needs_background": "light"
     },
     "output_type": "display_data"
    }
   ],
   "source": [
    "#5\n",
    "rcParams['figure.figsize'] = 6, 6\n",
    "x = [\"70\", \"80\", \"90\"]\n",
    "y1 = [0.759, 0.765, 0.784]\n",
    "plt.plot(x, y1, label = 'chi2')\n",
    "y2 = [0.756, 0.765, 0.777]\n",
    "plt.plot(x, y2, label = 'mi')\n",
    "plt.ylim(0.7, 1)\n",
    "plt.legend()"
   ]
  },
  {
   "cell_type": "code",
   "execution_count": 78,
   "id": "excess-disposal",
   "metadata": {},
   "outputs": [
    {
     "data": {
      "text/plain": [
       "<matplotlib.legend.Legend at 0x2249e2ba160>"
      ]
     },
     "execution_count": 78,
     "metadata": {},
     "output_type": "execute_result"
    },
    {
     "data": {
      "image/png": "[encoded data removed]",
      "text/plain": [
       "<Figure size 432x432 with 1 Axes>"
      ]
     },
     "metadata": {
      "needs_background": "light"
     },
     "output_type": "display_data"
    }
   ],
   "source": [
    "#6\n",
    "rcParams['figure.figsize'] = 6, 6\n",
    "x = [\"70\", \"80\", \"90\"]\n",
    "y1 = [0.781, 0.792, 0.798]\n",
    "plt.plot(x, y1, label = 'chi2')\n",
    "y2 = [0.792, 0.79, 0.796]\n",
    "plt.plot(x, y2, label = 'mi')\n",
    "plt.ylim(0.7, 1)\n",
    "plt.legend()"
   ]
  },
  {
   "cell_type": "code",
   "execution_count": 79,
   "id": "missing-draft",
   "metadata": {},
   "outputs": [
    {
     "data": {
      "text/plain": [
       "<matplotlib.legend.Legend at 0x2249e301d90>"
      ]
     },
     "execution_count": 79,
     "metadata": {},
     "output_type": "execute_result"
    },
    {
     "data": {
      "image/png": "[encoded data removed]",
      "text/plain": [
       "<Figure size 432x432 with 1 Axes>"
      ]
     },
     "metadata": {
      "needs_background": "light"
     },
     "output_type": "display_data"
    }
   ],
   "source": [
    "#7\n",
    "rcParams['figure.figsize'] = 6, 6\n",
    "x = [\"70\", \"80\", \"90\"]\n",
    "y1 = [0.944, 0.945, 0.95]\n",
    "plt.plot(x, y1, label = 'chi2')\n",
    "y2 = [0.944, 0.945, 0.945]\n",
    "plt.plot(x, y2, label = 'mi')\n",
    "plt.ylim(0.7, 1)\n",
    "plt.legend()"
   ]
  },
  {
   "cell_type": "code",
   "execution_count": 80,
   "id": "thousand-health",
   "metadata": {},
   "outputs": [
    {
     "data": {
      "text/plain": [
       "<matplotlib.legend.Legend at 0x2249e1e3610>"
      ]
     },
     "execution_count": 80,
     "metadata": {},
     "output_type": "execute_result"
    },
    {
     "data": {
      "image/png": "[encoded data removed]",
      "text/plain": [
       "<Figure size 432x432 with 1 Axes>"
      ]
     },
     "metadata": {
      "needs_background": "light"
     },
     "output_type": "display_data"
    }
   ],
   "source": [
    "#8\n",
    "rcParams['figure.figsize'] = 6, 6\n",
    "x = [\"70\", \"80\", \"90\"]\n",
    "y1 = [0.95, 0.955, 0.956]\n",
    "plt.plot(x, y1, label = 'chi2')\n",
    "y2 = [0.947, 0.955, 0.954]\n",
    "plt.plot(x, y2, label = 'mi')\n",
    "plt.ylim(0.7, 1)\n",
    "plt.legend()"
   ]
  },
  {
   "cell_type": "code",
   "execution_count": 81,
   "id": "million-stopping",
   "metadata": {},
   "outputs": [
    {
     "data": {
      "text/plain": [
       "<matplotlib.legend.Legend at 0x2249db88970>"
      ]
     },
     "execution_count": 81,
     "metadata": {},
     "output_type": "execute_result"
    },
    {
     "data": {
      "image/png": "[encoded data removed]",
      "text/plain": [
       "<Figure size 432x432 with 1 Axes>"
      ]
     },
     "metadata": {
      "needs_background": "light"
     },
     "output_type": "display_data"
    }
   ],
   "source": [
    "#9\n",
    "rcParams['figure.figsize'] = 6, 6\n",
    "x = [\"70\", \"80\", \"90\"]\n",
    "y1 = [0.872, 0.872, 0.874]\n",
    "plt.plot(x, y1, label = 'chi2')\n",
    "y2 = [0.871, 0.872, 0.873]\n",
    "plt.plot(x, y2, label = 'mi')\n",
    "plt.ylim(0.7, 1)\n",
    "plt.legend()"
   ]
  }
 ],
 "metadata": {
  "kernelspec": {
   "display_name": "Python 3 (ipykernel)",
   "language": "python",
   "name": "python3"
  },
  "language_info": {
   "codemirror_mode": {
    "name": "ipython",
    "version": 3
   },
   "file_extension": ".py",
   "mimetype": "text/x-python",
   "name": "python",
   "nbconvert_exporter": "python",
   "pygments_lexer": "ipython3",
   "version": "3.8.5"
  }
 },
 "nbformat": 4,
 "nbformat_minor": 5
}
