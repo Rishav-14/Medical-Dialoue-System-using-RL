{
 "cells": [
  {
   "cell_type": "code",
   "execution_count": 1,
   "id": "iraqi-firmware",
   "metadata": {},
   "outputs": [],
   "source": [
    "from sklearn.feature_selection import RFE\n",
    "from sklearn.linear_model import LogisticRegression\n",
    "model = LogisticRegression()\n",
    "\n",
    "from sklearn.model_selection import train_test_split\n",
    "from sklearn.ensemble import RandomForestClassifier\n",
    "\n",
    "from sklearn.feature_selection import chi2\n",
    "from sklearn.feature_selection import SelectKBest, SelectPercentile\n",
    "from sklearn.metrics import accuracy_score\n",
    "from sklearn.ensemble import ExtraTreesClassifier\n",
    "\n",
    "import numpy as np\n",
    "import pandas as pd\n",
    "import seaborn as sns\n",
    "import matplotlib.pyplot as plt\n",
    "%matplotlib inline\n",
    "\n",
    "import pickle\n",
    "import os"
   ]
  },
  {
   "cell_type": "code",
   "execution_count": 2,
   "id": "prompt-narrative",
   "metadata": {
    "scrolled": true
   },
   "outputs": [],
   "source": [
    "idx = [(1, 0), (4, 1), (5, 2), (6, 3), (7, 4), (12, 5), (13, 6), (14, 7), (19, 8)]\n",
    "for z, c in idx:\n",
    "    data_set = pickle.load(open(r'label' + str(z) + '\\goal_set.p', 'rb'))\n",
    "    data = data_set['train'] + data_set['test'] + data_set['validate']\n",
    "    dis_s = {}\n",
    "    symptoms = {}\n",
    "    for xy in data:\n",
    "        disease = xy['disease_tag']\n",
    "        dis_s.setdefault(disease, {'index':len(dis_s), 'symptom':dict()})\n",
    "        temp2 = xy['goal']['implicit_inform_slots']\n",
    "        temp2.update(xy['goal']['explicit_inform_slots'])\n",
    "        for x, y in temp2.items():\n",
    "            symptoms.setdefault(x, len(symptoms))\n",
    "            dis_s[disease]['symptom'].setdefault(x, 0)\n",
    "            dis_s[disease]['symptom'][x] += 1\n",
    "    #for x in dis_s:\n",
    "        #frequency = 0\n",
    "        #for y in dis_s[x]['symptom']:\n",
    "            #frequency += dis_s[x]['symptom'][y]\n",
    "        #for y in dis_s[x]['symptom']:\n",
    "            #dis_s[x]['symptom'][y] /= frequency\n",
    "    symptoms['Total Disease'] = len(symptoms)\n",
    "    pickle.dump(obj = dis_s, file = open(r'label' + str(z) + '\\out1.p', 'wb'), protocol = 2)\n",
    "    pickle.dump(obj = symptoms, file = open(r'label' + str(z) + '\\out2.p', 'wb'), protocol = 2)"
   ]
  },
  {
   "cell_type": "code",
   "execution_count": 2,
   "id": "suited-extreme",
   "metadata": {},
   "outputs": [
    {
     "name": "stdout",
     "output_type": "stream",
     "text": [
      "0.861\n",
      "0.981\n",
      "0.838\n",
      "0.917\n",
      "0.754\n",
      "0.81\n",
      "0.935\n",
      "0.949\n",
      "0.868\n"
     ]
    },
    {
     "data": {
      "text/plain": [
       "<BarContainer object of 9 artists>"
      ]
     },
     "execution_count": 2,
     "metadata": {},
     "output_type": "execute_result"
    },
    {
     "data": {
      "image/png": "[encoded data removed]",
      "text/plain": [
       "<Figure size 432x288 with 1 Axes>"
      ]
     },
     "metadata": {
      "needs_background": "light"
     },
     "output_type": "display_data"
    }
   ],
   "source": [
    "idx = [(1, 0), (4, 1), (5, 2), (6, 3), (7, 4), (12, 5), (13, 6), (14, 7), (19, 8)]\n",
    "x = []\n",
    "for z, c in idx:\n",
    "    temp_dict = pickle.load(open(r'label' + str(z) + '\\out2.p', 'rb'))\n",
    "    temp_data = pickle.load(open(r'label' + str(z) + '\\out1.p', 'rb'))\n",
    "    length = 0\n",
    "\n",
    "    dict = {}\n",
    "    dict1 = {}\n",
    "    dict2 = {}\n",
    "    dict3 = {}\n",
    "\n",
    "    for xy in temp_dict:\n",
    "        dict[length] = xy\n",
    "        dict1[xy] = length\n",
    "        length +=1\n",
    "\n",
    "    length = 0\n",
    "    for xy in temp_data:\n",
    "        dict2[length] = xy\n",
    "        dict3[xy] = length\n",
    "        length += 1\n",
    "        \n",
    "    data_set = pickle.load(open(r'label' + str(z) + '\\goal_set.p', 'rb'))\n",
    "    data = data_set['train'] + data_set['test'] + data_set['validate']\n",
    "    count1 = 0\n",
    "    \n",
    "    for xy in data:\n",
    "        count1 += 1\n",
    "    X = np.zeros(shape=(count1, temp_dict[\"Total Disease\"]), dtype=np.uint8)\n",
    "    y = np.zeros(shape=(1, count1), dtype=np.uint8)\n",
    "    y = y.flatten()\n",
    "    count1 = 0\n",
    "    \n",
    "    for xy in data:\n",
    "        for xx in xy['goal']['explicit_inform_slots']:\n",
    "            X[count1][dict1[xx]] = 1\n",
    "        for xx in xy['goal']['implicit_inform_slots']:\n",
    "            X[count1][dict1[xx]] = 1\n",
    "        y[count1] = dict3[xy['disease_tag']]\n",
    "        count1 += 1\n",
    "    \n",
    "    X_train, X_test, y_train, y_test = train_test_split(X, y, test_size = 0.2, random_state = 1)\n",
    "    model = ExtraTreesClassifier(n_estimators = 10)\n",
    "    model.fit(X_train, y_train)\n",
    "    a = model.feature_importances_\n",
    "    l = []\n",
    "    timer = 0\n",
    "    for i in a:\n",
    "        l.append((i, dict[timer]))\n",
    "        timer += 1\n",
    "    l.sort()\n",
    "    res = {}\n",
    "    for i, j in l:\n",
    "        res[j] = float(i)\n",
    "    print(model.score(X_test, y_test))\n",
    "    x.append(model.score(X_test, y_test))\n",
    "    pickle.dump(obj = res, file = open(r'label' + str(z) + '\\out3.p', 'wb'), protocol = 2)\n",
    "y = [1,2,3,4,5,6,7,8,9]\n",
    "import matplotlib.pyplot as plt \n",
    "plt.bar(y, x, tick_label = y, \n",
    "        width = 0.8, color = ['red', 'orange']) "
   ]
  },
  {
   "cell_type": "code",
   "execution_count": null,
   "id": "stupid-safety",
   "metadata": {},
   "outputs": [],
   "source": []
  }
 ],
 "metadata": {
  "kernelspec": {
   "display_name": "Python 3",
   "language": "python",
   "name": "python3"
  },
  "language_info": {
   "codemirror_mode": {
    "name": "ipython",
    "version": 3
   },
   "file_extension": ".py",
   "mimetype": "text/x-python",
   "name": "python",
   "nbconvert_exporter": "python",
   "pygments_lexer": "ipython3",
   "version": "3.8.5"
  }
 },
 "nbformat": 4,
 "nbformat_minor": 5
}
